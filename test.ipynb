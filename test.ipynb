{
 "cells": [
  {
   "cell_type": "code",
   "execution_count": 5,
   "metadata": {},
   "outputs": [
    {
     "data": {
      "text/plain": [
       "<All keys matched successfully>"
      ]
     },
     "execution_count": 5,
     "metadata": {},
     "output_type": "execute_result"
    }
   ],
   "source": [
    "import torch\n",
    "from PIL import Image\n",
    "from dataset import MyDataset\n",
    "from unet.unet_model import UNet\n",
    "\n",
    "\n",
    "img_dir = \"./data/val_imgs/\"\n",
    "mask_dir = \"./data/val_masks/\"\n",
    "name = \"ISIC_0015200.jpg\"\n",
    "mask_name = name.split(\".\")[0] + \"_segmentation.png\"\n",
    "full_img = Image.open(img_dir + name)\n",
    "device = torch.device(\"cuda\")\n",
    "\n",
    "load_model = UNet()\n",
    "load_model.to(device=device)\n",
    "load_model.load_state_dict(torch.load(\"./checkpoint/checkpoint_epoch10.pth\", map_location=device))"
   ]
  },
  {
   "cell_type": "code",
   "execution_count": 8,
   "metadata": {},
   "outputs": [
    {
     "data": {
      "text/plain": [
       "True"
      ]
     },
     "execution_count": 8,
     "metadata": {},
     "output_type": "execute_result"
    }
   ],
   "source": [
    "from predict import predict_img\n",
    "from predict import mask2img\n",
    "from PIL import ImageShow\n",
    "x = predict_img(load_model, full_img,device)\n",
    "x_img = mask2img(x, full_img.size)\n",
    "x_true = Image.open(mask_dir+mask_name)\n",
    "ImageShow.show(x_img, title=\"pred\")\n",
    "ImageShow.show(x_true, title=\"true\")"
   ]
  }
 ],
 "metadata": {
  "kernelspec": {
   "display_name": "torch",
   "language": "python",
   "name": "python3"
  },
  "language_info": {
   "codemirror_mode": {
    "name": "ipython",
    "version": 3
   },
   "file_extension": ".py",
   "mimetype": "text/x-python",
   "name": "python",
   "nbconvert_exporter": "python",
   "pygments_lexer": "ipython3",
   "version": "3.10.10"
  },
  "orig_nbformat": 4
 },
 "nbformat": 4,
 "nbformat_minor": 2
}
